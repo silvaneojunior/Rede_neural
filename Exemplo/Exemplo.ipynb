{
 "cells": [
  {
   "cell_type": "markdown",
   "metadata": {},
   "source": [
    "Importando módulos necessários\n",
    "--"
   ]
  },
  {
   "cell_type": "code",
   "execution_count": 1,
   "metadata": {},
   "outputs": [
    {
     "name": "stdout",
     "output_type": "stream",
     "text": [
      "TensorFlow version = 2.1.0\n",
      "Network version = V2.0.0\n"
     ]
    }
   ],
   "source": [
    "import numpy as np\n",
    "import tensorflow as tf\n",
    "import NeuralNetwork as rn\n",
    "import Layers\n",
    "import Functions as default\n",
    "import Normalize"
   ]
  },
  {
   "cell_type": "code",
   "execution_count": 2,
   "metadata": {},
   "outputs": [
    {
     "data": {
      "text/plain": [
       "<tf.Tensor: shape=(10, 5), dtype=float16, numpy=\n",
       "array([[0.4033  , 0.747   , 0.629   , 0.3174  , 0.7314  ],\n",
       "       [0.914   , 0.1738  , 0.4902  , 0.1953  , 0.006836],\n",
       "       [0.701   , 0.249   , 0.4697  , 0.0928  , 0.74    ],\n",
       "       [0.744   , 0.3223  , 0.9355  , 0.03125 , 0.8574  ],\n",
       "       [0.584   , 0.746   , 0.457   , 0.507   , 0.9297  ],\n",
       "       [0.4277  , 0.865   , 0.4414  , 0.5605  , 0.9014  ],\n",
       "       [0.2236  , 0.757   , 0.3057  , 0.67    , 0.827   ],\n",
       "       [0.1465  , 0.874   , 0.759   , 0.748   , 0.4336  ],\n",
       "       [0.6445  , 0.8506  , 0.5547  , 0.993   , 0.2559  ],\n",
       "       [0.3486  , 0.2637  , 0.6445  , 0.3818  , 0.921   ]], dtype=float16)>"
      ]
     },
     "execution_count": 2,
     "metadata": {},
     "output_type": "execute_result"
    }
   ],
   "source": [
    "tf.random.uniform([10,5],0,1,dtype='float16')"
   ]
  },
  {
   "cell_type": "markdown",
   "metadata": {},
   "source": [
    "Importando dados\n",
    "--"
   ]
  },
  {
   "cell_type": "code",
   "execution_count": null,
   "metadata": {},
   "outputs": [],
   "source": [
    "import _pickle as cPickle\n",
    "import gzip\n",
    "\n",
    "f = gzip.open(\"mnist.pkl.gz\", 'rb')\n",
    "training_data, validation_data, test_data = cPickle.load(f,encoding='latin1')\n",
    "f.close()\n",
    "\n",
    "training_data, validation_data, test_data\n",
    "\n",
    "train_x=tf.convert_to_tensor(\n",
    "    np.concatenate([training_data[0], validation_data[0]],axis=0).T,\n",
    "dtype='float32')\n",
    "\n",
    "validation_x=tf.convert_to_tensor(test_data[0].T,dtype='float32')\n",
    "\n",
    "train_y=np.zeros([10,60000])\n",
    "validation_y=np.zeros([10,10000])\n",
    "\n",
    "for i,j in zip(range(60000),training_data[1].tolist()+validation_data[1].tolist()):\n",
    "    train_y[j-1,i]=1\n",
    "for i,j in zip(range(10000),test_data[1].tolist()):\n",
    "    validation_y[j-1,i]=1\n",
    "    \n",
    "train_y=tf.convert_to_tensor(train_y,dtype='float32')\n",
    "validation_y=tf.convert_to_tensor(validation_y,dtype='float32')\n",
    "\n",
    "def dataset(label):\n",
    "    if label=='train':\n",
    "        return [train_x,train_y]\n",
    "    elif label=='validation':\n",
    "        return [validation_x,validation_y]"
   ]
  },
  {
   "cell_type": "markdown",
   "metadata": {},
   "source": [
    "Criando primeira rede neural\n",
    "--"
   ]
  },
  {
   "cell_type": "code",
   "execution_count": null,
   "metadata": {},
   "outputs": [],
   "source": [
    "layers=[]\n",
    "\n",
    "\n",
    "layers.append(Layers.FC(n_inputs=784,\n",
    "                        n_neurons=64,\n",
    "                        ativ_func=default.relu))\n",
    "\n",
    "layers.append(Layers.FC(n_inputs=layers[-1].n_outputs,\n",
    "                        n_neurons=64,\n",
    "                        ativ_func=default.relu))\n",
    "\n",
    "layers.append(Layers.FC(n_inputs=64,\n",
    "                        n_neurons=10,\n",
    "                        ativ_func=default.SoftMax,\n",
    "                        funcao_erro=default.Cross_Entropy,\n",
    "                        funcao_acuracia=default.unique_label_accuracy))\n",
    "\n",
    "Network=rn.FowardNetwork(dataset,\n",
    "                   layers,\n",
    "                   transformacoes=None,\n",
    "                   check_size=1000,\n",
    "                   report_func=default.report)"
   ]
  },
  {
   "cell_type": "code",
   "execution_count": null,
   "metadata": {},
   "outputs": [],
   "source": [
    "trainpack=[[5,['RMSProp',10**(-3),0.1],False]]\n",
    "\n",
    "default.dataset_check_flag=False\n",
    "\n",
    "for n,learning_method,flag_data in trainpack:\n",
    "    Network.otimize(no_better_interval=n,\n",
    "                    number_of_epochs=10,\n",
    "                    weight_penalty=0,\n",
    "                    learning_method=learning_method,\n",
    "                    batch_size=64,\n",
    "                    update_data=flag_data)"
   ]
  },
  {
   "cell_type": "markdown",
   "metadata": {},
   "source": [
    "Fazendo normalização dos dados\n",
    "--"
   ]
  },
  {
   "cell_type": "code",
   "execution_count": null,
   "metadata": {},
   "outputs": [],
   "source": [
    "transf,transforma,destransforma=Normalize.normalize(train_x.numpy(),\n",
    "                                                    mean_flag=True,\n",
    "                                                    std_flag=True)\n",
    "train_x=transforma(train_x)\n",
    "validation_x=transforma(validation_x)\n",
    "\n",
    "def dataset(label):\n",
    "    if label=='train':\n",
    "        return [train_x,train_y]\n",
    "    elif label=='validation':\n",
    "        return [validation_x,validation_y]"
   ]
  },
  {
   "cell_type": "markdown",
   "metadata": {},
   "source": [
    "Criando segunda rede neural, desta vez usando outra função de ativação nas camadas internas\n",
    "--"
   ]
  },
  {
   "cell_type": "code",
   "execution_count": null,
   "metadata": {},
   "outputs": [],
   "source": [
    "layers=[]\n",
    "\n",
    "\n",
    "layers.append(Layers.FC(n_inputs=784,\n",
    "                        n_neurons=64,\n",
    "                        ativ_func=default.TanH))\n",
    "\n",
    "layers.append(Layers.FC(n_inputs=layers[-1].n_outputs,\n",
    "                        n_neurons=64,\n",
    "                        ativ_func=default.TanH))\n",
    "\n",
    "layers.append(Layers.FC(n_inputs=64,\n",
    "                        n_neurons=10,\n",
    "                        ativ_func=default.SoftMax,\n",
    "                        funcao_erro=default.Cross_Entropy,\n",
    "                        funcao_acuracia=default.unique_label_accuracy))\n",
    "\n",
    "Network=rn.FowardNetwork(dataset,\n",
    "                   layers,\n",
    "                   transformacoes=transf,\n",
    "                   check_size=1000,\n",
    "                   report_func=default.report)"
   ]
  },
  {
   "cell_type": "code",
   "execution_count": null,
   "metadata": {},
   "outputs": [],
   "source": [
    "trainpack=[[5,['RMSProp',10**(-3),0.1],False]]\n",
    "\n",
    "default.dataset_check_flag=False\n",
    "\n",
    "for n,learning_method,flag_data in trainpack:\n",
    "    Network.otimize(no_better_interval=n,\n",
    "                    number_of_epochs=10,\n",
    "                    weight_penalty=0,\n",
    "                    learning_method=learning_method,\n",
    "                    batch_size=64,\n",
    "                    update_data=flag_data)"
   ]
  },
  {
   "cell_type": "markdown",
   "metadata": {},
   "source": [
    "Criando uma rede neural de convolução\n",
    "--"
   ]
  },
  {
   "cell_type": "code",
   "execution_count": null,
   "metadata": {},
   "outputs": [],
   "source": [
    "layers=[]\n",
    "\n",
    "layers.append(Layers.Conv(input_shape=[1,28,28],\n",
    "                          filter_shape=[20,5,5],\n",
    "                          stride=(2,2),\n",
    "                          ativ_func=default.TanH))\n",
    "\n",
    "layers.append(Layers.Conv(input_shape=[20,12,12],\n",
    "                          filter_shape=[20,5,5],\n",
    "                          stride=(2,2),\n",
    "                          ativ_func=default.TanH))\n",
    "\n",
    "layers.append(Layers.FC(n_inputs=layers[-1].n_outputs,\n",
    "                        n_neurons=256,\n",
    "                        ativ_func=default.TanH))\n",
    "\n",
    "layers.append(Layers.FC(n_inputs=layers[-1].n_outputs,\n",
    "                        n_neurons=128,\n",
    "                        ativ_func=default.TanH))\n",
    "\n",
    "layers.append(Layers.FC(n_inputs=layers[-1].n_outputs,\n",
    "                        n_neurons=10,\n",
    "                        ativ_func=default.SoftMax,\n",
    "                        funcao_erro=default.Cross_Entropy,\n",
    "                        funcao_acuracia=default.unique_label_accuracy))\n",
    "\n",
    "Network=rn.FowardNetwork(dataset,\n",
    "                   layers,\n",
    "                   transformacoes=transf,\n",
    "                   check_size=1000,\n",
    "                   report_func=default.report)"
   ]
  },
  {
   "cell_type": "code",
   "execution_count": null,
   "metadata": {},
   "outputs": [],
   "source": [
    "trainpack=[[5,['RMSProp',10**(-3),0.1],False]]\n",
    "\n",
    "default.dataset_check_flag=False\n",
    "\n",
    "for n,learning_method,flag_data in trainpack:\n",
    "    Network.otimize(no_better_interval=n,\n",
    "                    number_of_epochs=50,\n",
    "                    weight_penalty=0,\n",
    "                    learning_method=learning_method,\n",
    "                    batch_size=64,\n",
    "                    update_data=flag_data)"
   ]
  },
  {
   "cell_type": "code",
   "execution_count": null,
   "metadata": {},
   "outputs": [],
   "source": []
  }
 ],
 "metadata": {
  "kernelspec": {
   "display_name": "Python 3",
   "language": "python",
   "name": "python3"
  },
  "language_info": {
   "codemirror_mode": {
    "name": "ipython",
    "version": 3
   },
   "file_extension": ".py",
   "mimetype": "text/x-python",
   "name": "python",
   "nbconvert_exporter": "python",
   "pygments_lexer": "ipython3",
   "version": "3.7.4"
  }
 },
 "nbformat": 4,
 "nbformat_minor": 4
}
