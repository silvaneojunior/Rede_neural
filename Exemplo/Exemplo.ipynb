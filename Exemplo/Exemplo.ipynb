{
 "cells": [
  {
   "cell_type": "markdown",
   "metadata": {},
   "source": [
    "Importando módulos necessários\n",
    "--"
   ]
  },
  {
   "cell_type": "code",
   "execution_count": null,
   "metadata": {
    "jupyter": {
     "source_hidden": true
    }
   },
   "outputs": [],
   "source": [
    "import numpy as np\n",
    "import tensorflow as tf\n",
    "import NeuralNetwork as rn\n",
    "import Layers\n",
    "import Functions as default\n",
    "import Normalize"
   ]
  },
  {
   "cell_type": "markdown",
   "metadata": {},
   "source": [
    "Importando dados\n",
    "--"
   ]
  },
  {
   "cell_type": "code",
   "execution_count": null,
   "metadata": {},
   "outputs": [],
   "source": [
    "import _pickle as cPickle\n",
    "import gzip\n",
    "\n",
    "f = gzip.open(\"mnist.pkl.gz\", 'rb')\n",
    "training_data, validation_data, test_data = cPickle.load(f,encoding='latin1')\n",
    "f.close()\n",
    "\n",
    "training_data, validation_data, test_data\n",
    "\n",
    "train_x=tf.convert_to_tensor(\n",
    "    np.concatenate([training_data[0], validation_data[0]],axis=0).T,\n",
    "dtype='float32')\n",
    "\n",
    "validation_x=tf.convert_to_tensor(test_data[0].T,dtype='float32')\n",
    "\n",
    "train_y=np.zeros([10,60000])\n",
    "validation_y=np.zeros([10,10000])\n",
    "\n",
    "for i,j in zip(range(60000),training_data[1].tolist()+validation_data[1].tolist()):\n",
    "    train_y[j-1,i]=1\n",
    "for i,j in zip(range(10000),test_data[1].tolist()):\n",
    "    validation_y[j-1,i]=1\n",
    "    \n",
    "train_y=tf.convert_to_tensor(train_y,dtype='float32')\n",
    "validation_y=tf.convert_to_tensor(validation_y,dtype='float32')\n",
    "\n",
    "def dataset(label):\n",
    "    if label=='train':\n",
    "        return [train_x,train_y]\n",
    "    elif label=='validation':\n",
    "        return [validation_x,validation_y]"
   ]
  },
  {
   "cell_type": "markdown",
   "metadata": {},
   "source": [
    "Criando primeira rede neural\n",
    "--"
   ]
  },
  {
   "cell_type": "code",
   "execution_count": null,
   "metadata": {},
   "outputs": [],
   "source": [
    "layers=[]\n",
    "\n",
    "\n",
    "layers.append(Layers.FC(n_inputs=784,\n",
    "                        n_neurons=64,\n",
    "                        ativ_func=default.relu))\n",
    "\n",
    "layers.append(Layers.FC(n_inputs=layers[-1].n_outputs,\n",
    "                        n_neurons=64,\n",
    "                        ativ_func=default.relu))\n",
    "\n",
    "layers.append(Layers.FC(n_inputs=64,\n",
    "                        n_neurons=10,\n",
    "                        ativ_func=default.SoftMax,\n",
    "                        funcao_erro=default.Cross_Entropy,\n",
    "                        funcao_acuracia=default.unique_label_accuracy))\n",
    "\n",
    "Network=rn.FowardNetwork(dataset,\n",
    "                   layers,\n",
    "                   transformacoes=None,\n",
    "                   check_size=1000,\n",
    "                   report_func=default.report)"
   ]
  },
  {
   "cell_type": "code",
   "execution_count": null,
   "metadata": {},
   "outputs": [],
   "source": [
    "trainpack=[[5,['RMSProp',10**(-3),0.1],False]]\n",
    "\n",
    "default.dataset_check_flag=False\n",
    "\n",
    "for n,learning_method,flag_data in trainpack:\n",
    "    Network.otimize(no_better_interval=n,\n",
    "                    number_of_epochs=10,\n",
    "                    weight_penalty=0,\n",
    "                    learning_method=learning_method,\n",
    "                    batch_size=64,\n",
    "                    update_data=flag_data)"
   ]
  },
  {
   "cell_type": "markdown",
   "metadata": {},
   "source": [
    "Fazendo normalização dos dados\n",
    "--"
   ]
  },
  {
   "cell_type": "code",
   "execution_count": null,
   "metadata": {},
   "outputs": [],
   "source": [
    "transf,transforma,destransforma=Normalize.normalize(train_x.numpy(),\n",
    "                                                    mean_flag=True,\n",
    "                                                    std_flag=True)\n",
    "train_x=transforma(train_x)\n",
    "validation_x=transforma(validation_x)\n",
    "\n",
    "def dataset(label):\n",
    "    if label=='train':\n",
    "        return [train_x,train_y]\n",
    "    elif label=='validation':\n",
    "        return [validation_x,validation_y]"
   ]
  },
  {
   "cell_type": "markdown",
   "metadata": {},
   "source": [
    "Criando segunda rede neural, desta vez usando outra função de ativação nas camadas internas\n",
    "--"
   ]
  },
  {
   "cell_type": "code",
   "execution_count": null,
   "metadata": {},
   "outputs": [],
   "source": [
    "layers=[]\n",
    "\n",
    "\n",
    "layers.append(Layers.FC(n_inputs=784,\n",
    "                        n_neurons=64,\n",
    "                        ativ_func=default.TanH))\n",
    "\n",
    "layers.append(Layers.FC(n_inputs=layers[-1].n_outputs,\n",
    "                        n_neurons=64,\n",
    "                        ativ_func=default.TanH))\n",
    "\n",
    "layers.append(Layers.FC(n_inputs=64,\n",
    "                        n_neurons=10,\n",
    "                        ativ_func=default.SoftMax,\n",
    "                        funcao_erro=default.Cross_Entropy,\n",
    "                        funcao_acuracia=default.unique_label_accuracy))\n",
    "\n",
    "Network=rn.FowardNetwork(dataset,\n",
    "                   layers,\n",
    "                   transformacoes=transf,\n",
    "                   check_size=1000,\n",
    "                   report_func=default.report)"
   ]
  },
  {
   "cell_type": "code",
   "execution_count": null,
   "metadata": {},
   "outputs": [],
   "source": [
    "trainpack=[[5,['RMSProp',10**(-3),0.1],False]]\n",
    "\n",
    "default.dataset_check_flag=False\n",
    "\n",
    "for n,learning_method,flag_data in trainpack:\n",
    "    Network.otimize(no_better_interval=n,\n",
    "                    number_of_epochs=10,\n",
    "                    weight_penalty=0,\n",
    "                    learning_method=learning_method,\n",
    "                    batch_size=64,\n",
    "                    update_data=flag_data)"
   ]
  },
  {
   "cell_type": "markdown",
   "metadata": {},
   "source": [
    "Criando uma rede neural de convolução\n",
    "--"
   ]
  },
  {
   "cell_type": "code",
   "execution_count": null,
   "metadata": {},
   "outputs": [],
   "source": [
    "layers=[]\n",
    "\n",
    "layers.append(Layers.Conv(input_shape=[1,28,28],\n",
    "                          filter_shape=[20,5,5],\n",
    "                          stride=(2,2),\n",
    "                          ativ_func=default.TanH))\n",
    "\n",
    "layers.append(Layers.Conv(input_shape=[20,12,12],\n",
    "                          filter_shape=[20,5,5],\n",
    "                          stride=(2,2),\n",
    "                          ativ_func=default.TanH))\n",
    "\n",
    "layers.append(Layers.FC(n_inputs=layers[-1].n_outputs,\n",
    "                        n_neurons=256,\n",
    "                        ativ_func=default.TanH))\n",
    "\n",
    "layers.append(Layers.FC(n_inputs=layers[-1].n_outputs,\n",
    "                        n_neurons=128,\n",
    "                        ativ_func=default.TanH))\n",
    "\n",
    "layers.append(Layers.FC(n_inputs=layers[-1].n_outputs,\n",
    "                        n_neurons=10,\n",
    "                        ativ_func=default.SoftMax,\n",
    "                        funcao_erro=default.Cross_Entropy,\n",
    "                        funcao_acuracia=default.unique_label_accuracy))\n",
    "\n",
    "Network=rn.FowardNetwork(dataset,\n",
    "                   layers,\n",
    "                   transformacoes=transf,\n",
    "                   check_size=1000,\n",
    "                   report_func=default.report)"
   ]
  },
  {
   "cell_type": "code",
   "execution_count": null,
   "metadata": {},
   "outputs": [],
   "source": [
    "trainpack=[[5,['RMSProp',10**(-3),0.1],False]]\n",
    "\n",
    "default.dataset_check_flag=False\n",
    "\n",
    "for n,learning_method,flag_data in trainpack:\n",
    "    Network.otimize(no_better_interval=n,\n",
    "                    number_of_epochs=50,\n",
    "                    weight_penalty=0,\n",
    "                    learning_method=learning_method,\n",
    "                    batch_size=64,\n",
    "                    update_data=flag_data)"
   ]
  },
  {
   "cell_type": "code",
   "execution_count": null,
   "metadata": {},
   "outputs": [],
   "source": []
  }
 ],
 "metadata": {
  "kernelspec": {
   "display_name": "Python 3",
   "language": "python",
   "name": "python3"
  },
  "language_info": {
   "codemirror_mode": {
    "name": "ipython",
    "version": 3
   },
   "file_extension": ".py",
   "mimetype": "text/x-python",
   "name": "python",
   "nbconvert_exporter": "python",
   "pygments_lexer": "ipython3",
   "version": "3.7.4"
  }
 },
 "nbformat": 4,
 "nbformat_minor": 4
}
