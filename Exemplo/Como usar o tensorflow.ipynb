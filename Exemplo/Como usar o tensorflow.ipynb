{
 "cells": [
  {
   "cell_type": "markdown",
   "metadata": {},
   "source": [
    "Importando módulos"
   ]
  },
  {
   "cell_type": "code",
   "execution_count": 1,
   "metadata": {},
   "outputs": [],
   "source": [
    "import tensorflow as tf\n",
    "import numpy as np\n",
    "import time as t\n",
    "import matplotlib.pyplot as plot "
   ]
  },
  {
   "cell_type": "code",
   "execution_count": 2,
   "metadata": {},
   "outputs": [
    {
     "name": "stdout",
     "output_type": "stream",
     "text": [
      "A função otimizada gastou 0.0 segundos para ser criada e para execução gastou:\n",
      "1ª execução: 7.392054557800293 segundos\n",
      "2ª execução: 0.001998424530029297 segundos\n",
      "3ª execução: 0.0009987354278564453 segundos\n",
      "4ª execução: 0.0009996891021728516 segundos\n",
      "5ª execução: 0.0009808540344238281 segundos\n",
      "\n",
      "A função não otimizada gastou 0.0009999275207519531 segundos para ser criada e para execução gastou:\n",
      "1ª execução: 1.8258533477783203 segundos\n",
      "2ª execução: 1.4520044326782227 segundos\n",
      "3ª execução: 1.565033197402954 segundos\n",
      "4ª execução: 1.6961312294006348 segundos\n",
      "5ª execução: 1.8218631744384766 segundos\n",
      "\n",
      "A função comum gastou 0.0 segundos para ser criada e para execução gastou:\n",
      "1ª execução: 1.5411670207977295 segundos\n",
      "2ª execução: 1.4760444164276123 segundos\n",
      "3ª execução: 1.6138818264007568 segundos\n",
      "4ª execução: 1.5030441284179688 segundos\n",
      "5ª execução: 1.7579638957977295 segundos\n"
     ]
    }
   ],
   "source": [
    "#Criando função otimizada pelo tensorflow\n",
    "tempo_otimizado=[]\n",
    "inicio=t.time()\n",
    "@tf.function\n",
    "def funcao_otimizada(x,y):\n",
    "    for i in range(2000):\n",
    "        tf.matmul(x,y)\n",
    "    return tf.matmul(x,y)\n",
    "tempo_otimizado.append(t.time()-inicio)\n",
    "\n",
    "#Criando função não otimizada pelo tensorflow\n",
    "tempo_nao_otimizado=[]\n",
    "inicio=t.time()\n",
    "def funcao_nao_otimizada(x,y):\n",
    "    for i in range(2000):\n",
    "        tf.matmul(x,y)\n",
    "    return tf.matmul(x,y)\n",
    "tempo_nao_otimizado.append(t.time()-inicio)\n",
    "\n",
    "#Criando função comum com numpy\n",
    "tempo_comum=[]\n",
    "inicio=t.time()\n",
    "def funcao_comum(x,y):\n",
    "    for i in range(2000):\n",
    "        tf.matmul(x,y)\n",
    "    return tf.matmul(x,y)\n",
    "tempo_comum.append(t.time()-inicio)\n",
    "\n",
    "#Funções otimizadas pelo tensorflow geralmente demoram mais na primeira execução\n",
    "#porém, depois dela, elas se tornam mais rápidas, por isso, iremos comparar cinc\n",
    "#o execuções de cada função.\n",
    "\n",
    "X=np.random.normal(0,1,[200,50])\n",
    "Y=np.random.normal(0,1,[50,100])\n",
    "\n",
    "for i in range(5):\n",
    "    inicio=t.time()\n",
    "    funcao_otimizada(X,Y)\n",
    "    tempo_otimizado.append(t.time()-inicio)\n",
    "    \n",
    "    inicio=t.time()\n",
    "    funcao_nao_otimizada(X,Y)\n",
    "    tempo_nao_otimizado.append(t.time()-inicio)\n",
    "    \n",
    "    inicio=t.time()\n",
    "    funcao_comum(X,Y)\n",
    "    tempo_comum.append(t.time()-inicio)\n",
    "    \n",
    "print(\"A função otimizada gastou {0} segundos para ser criada e para execução gastou:\\n1ª execução: {1} segundos\\n2ª execução: {2} segundos\\n3ª execução: {3} segundos\\n4ª execução: {4} segundos\\n5ª execução: {5} segundos\\n\".format(*tempo_otimizado))\n",
    "print(\"A função não otimizada gastou {0} segundos para ser criada e para execução gastou:\\n1ª execução: {1} segundos\\n2ª execução: {2} segundos\\n3ª execução: {3} segundos\\n4ª execução: {4} segundos\\n5ª execução: {5} segundos\\n\".format(*tempo_nao_otimizado))\n",
    "print(\"A função comum gastou {0} segundos para ser criada e para execução gastou:\\n1ª execução: {1} segundos\\n2ª execução: {2} segundos\\n3ª execução: {3} segundos\\n4ª execução: {4} segundos\\n5ª execução: {5} segundos\".format(*tempo_comum))\n"
   ]
  },
  {
   "cell_type": "markdown",
   "metadata": {},
   "source": [
    "Veja que a função otimizada gasta bastante tempo na primeira execução, porém, após ela, é praticamente instantânea. Vale observar que 0.001 segundos é a mais ou menos a precisão da medida de tempo do Python (para verificar isto, basta rodar esse código algumas vezes e verá que o tempo gasto para criar as funções ocila entre 0.001 e 0.0), por isso podemos considerar que o tempo para a criação de todas as funções foi 0.0 (assim como o tempo para a execução da função otimizada após a primeira execução), desta forma, todas as funções tiveram o mesmo tempo de criação, mesmo com a otimização do TensorFlow, isto me leva a crer que a função é otimizada na primeira execução e não na criação. "
   ]
  },
  {
   "cell_type": "markdown",
   "metadata": {},
   "source": [
    "Vamos agora ver um exemplo interressante onde possamos calcular derivadas."
   ]
  },
  {
   "cell_type": "code",
   "execution_count": 3,
   "metadata": {},
   "outputs": [
    {
     "data": {
      "image/png": "[encoded data removed]",
      "text/plain": [
       "<Figure size 432x288 with 1 Axes>"
      ]
     },
     "metadata": {
      "needs_background": "light"
     },
     "output_type": "display_data"
    }
   ],
   "source": [
    "X=tf.random.normal([200,1],0,10)\n",
    "Y=0.03*X**3-0.48*X**2-0.06*X-1+tf.random.normal([200,1],0,50)\n",
    "\n",
    "plot.plot(X,Y,'ro')\n",
    "plot.show()"
   ]
  },
  {
   "cell_type": "markdown",
   "metadata": {},
   "source": [
    "Vamos fazer uma regressão bayesiana dos pontos acima."
   ]
  },
  {
   "cell_type": "code",
   "execution_count": 4,
   "metadata": {},
   "outputs": [],
   "source": [
    "#Tomemos uma priori normal para os pesos e uma verrossimilhança normal.\n",
    "#Tomemos tau_1 como a precisão da nossa priori e tau_2 como precição da verossimilhança.\n",
    "\n",
    "tau_1=tf.Variable(1,dtype='float32',trainable=False)\n",
    "tau_2=tf.Variable(0.01,dtype='float32',trainable=False)\n",
    "\n",
    "pesos=tf.Variable(tf.random.normal([4,1],0,1),dtype='float32',trainable=True)\n",
    "\n",
    "matrix_X=tf.concat([X**3,X**2,X,X**0],axis=1)\n",
    "\n",
    "#Definindo função proporcional ao log da priori multiplicado por -1\n",
    "@tf.function\n",
    "def priori():\n",
    "    return tau_1*tf.math.reduce_mean(pesos**2)\n",
    "\n",
    "#Definindo função proporcional ao log da verrossimilhança multiplicado por -1\n",
    "@tf.function\n",
    "def verrossimilhança():\n",
    "    predicao=tf.matmul(matrix_X,pesos)\n",
    "    return tau_2*tf.reduce_mean((predicao-Y)**2)"
   ]
  },
  {
   "cell_type": "markdown",
   "metadata": {},
   "source": [
    "Agora que temos a posteriori dos pesos, basta amostrar desta distribuição, para isso usaremos uma implementação preguiçosa do método de MCMC chamaado Langevin."
   ]
  },
  {
   "cell_type": "code",
   "execution_count": 5,
   "metadata": {},
   "outputs": [],
   "source": [
    "@tf.function\n",
    "def Langevin(passo):\n",
    "    #Usando o GradientTape para que o tensorflow acompanhe as variáveis treinaveis no seu uso dentro do escopo do with.\n",
    "    with tf.GradientTape(persistent=True) as watch_grad:\n",
    "        erro=priori()+verrossimilhança()\n",
    "    #Calculando gradiente dos pesos.\n",
    "    grad=passo*watch_grad.gradient(erro,pesos)\n",
    "    langevin_noise=tf.random.normal([4,1],0,1)\n",
    "    #Atualizando pesos.\n",
    "    pesos.assign(pesos-passo*(grad+langevin_noise))\n",
    "    return pesos,priori()+verrossimilhança()"
   ]
  },
  {
   "cell_type": "markdown",
   "metadata": {},
   "source": [
    "Checkpoint."
   ]
  },
  {
   "cell_type": "code",
   "execution_count": 6,
   "metadata": {},
   "outputs": [],
   "source": [
    "tau_1.assign(0.1)\n",
    "tau_2.assign(0.01)\n",
    "passo_do_langevin=10**(-3)\n",
    "pesos.assign(tf.random.normal([4,1],0,1))\n",
    "amostra_de_pesos=pesos\n",
    "erros=[]"
   ]
  },
  {
   "cell_type": "code",
   "execution_count": 7,
   "metadata": {},
   "outputs": [
    {
     "name": "stdout",
     "output_type": "stream",
     "text": [
      "10.898837089538574\n"
     ]
    }
   ],
   "source": [
    "inicio=t.time()\n",
    "for i in range(10000):\n",
    "    resultado_langevin=Langevin(passo_do_langevin)\n",
    "    erros.append(resultado_langevin[1])\n",
    "    amostra_de_pesos=tf.concat([amostra_de_pesos,resultado_langevin[0]],axis=1)\n",
    "print(t.time()-inicio)"
   ]
  },
  {
   "cell_type": "markdown",
   "metadata": {},
   "source": [
    "Plotando erros"
   ]
  },
  {
   "cell_type": "code",
   "execution_count": 8,
   "metadata": {},
   "outputs": [
    {
     "data": {
      "image/png": "[encoded data removed]",
      "text/plain": [
       "<Figure size 432x288 with 1 Axes>"
      ]
     },
     "metadata": {
      "needs_background": "light"
     },
     "output_type": "display_data"
    }
   ],
   "source": [
    "indices=range(1,10001)\n",
    "plot.plot(indices,erros)\n",
    "plot.show()"
   ]
  },
  {
   "cell_type": "markdown",
   "metadata": {},
   "source": [
    "Vamos testar o resultado."
   ]
  },
  {
   "cell_type": "code",
   "execution_count": 9,
   "metadata": {},
   "outputs": [],
   "source": [
    "sub_amostra_de_pesos=tf.gather(amostra_de_pesos,np.random.randint(0,9999,1000),axis=1)"
   ]
  },
  {
   "cell_type": "code",
   "execution_count": 10,
   "metadata": {},
   "outputs": [],
   "source": [
    "X_teste=tf.convert_to_tensor(np.asarray([range(-30,30)]).T,dtype='float32')\n",
    "matrix_X_teste=tf.concat([X_teste**3,X_teste**2,X_teste,X_teste**0],axis=1)\n",
    "\n",
    "previsões=tf.matmul(matrix_X_teste,sub_amostra_de_pesos)\n",
    "\n",
    "media=tf.math.reduce_mean(previsões,axis=1)\n",
    "desvio_padrao=tf.math.reduce_std(previsões,axis=1)"
   ]
  },
  {
   "cell_type": "code",
   "execution_count": 11,
   "metadata": {},
   "outputs": [
    {
     "data": {
      "image/png": "[encoded data removed]",
      "text/plain": [
       "<Figure size 432x288 with 1 Axes>"
      ]
     },
     "metadata": {
      "needs_background": "light"
     },
     "output_type": "display_data"
    }
   ],
   "source": [
    "indices=range(1,10001)\n",
    "plot.plot(X,Y,'ro',label='Pontos observados')\n",
    "plot.fill_between(X_teste[:,0],media+1.96*desvio_padrao,media-1.96*desvio_padrao,color='#aaaaff',label='Intervalo de 95% de confiança')\n",
    "plot.plot(X_teste,media,label='Média das previsões')\n",
    "plot.legend(loc=4)\n",
    "plot.show()"
   ]
  },
  {
   "cell_type": "markdown",
   "metadata": {},
   "source": [
    "Certamente você deve estar estranhando que o intervalo de confiança não inclui 95% dos pontos observados, isso se deve a escolha do parâmetro tau_2, pois ele é a precisão do ruído dentro do modelo, assim, claramente o tau_2 escolhido foi pequeno. Obviamente, uma vez que os dados foram gerados artificialmente, eu poderia escolher o tau_2 verdadeiro, porém, preferi deixar um tau_2 incorreto para ilustrar essa questão.\n",
    "\n",
    "O usuário pode alterar livremente o valor dos parâmetros usados, para isso, use o bloco de código imediatamente após o checkpoint, lembrando que, ao mudar o tau_1 e o tau_2 pode ser que o langevin não convirja, assim, caso os erros estejam convergindo, mas ainda não tenham estalizado, aumente o valor do passo do langevin, caso o erro esteja explodindo, diminua o passo.\n",
    "\n",
    "Por último, vale observar que os dados estão bastante concentrados em uma região, pois amostrei o X de uma normal, isso faz com que a confiança naquela região seja muito alta, mesmo para tau_2 muito baixos."
   ]
  },
  {
   "cell_type": "markdown",
   "metadata": {},
   "source": [
    "Para um breve efeito de comparação, vamos comparar o uso do Langevin com otimização e sem otimização."
   ]
  },
  {
   "cell_type": "code",
   "execution_count": 12,
   "metadata": {},
   "outputs": [],
   "source": [
    "def Langevin_sem_otimização(passo):\n",
    "    #Usando o GradientTape para que o tensorflow acompanhe as variáveis treinaveis no seu uso dentro do escopo do with.\n",
    "    with tf.GradientTape(persistent=True) as watch_grad:\n",
    "        erro=priori()+verrossimilhança()\n",
    "    #Calculando gradiente dos pesos.\n",
    "    grad=passo*watch_grad.gradient(erro,pesos)\n",
    "    langevin_noise=tf.random.normal([4,1],0,1)\n",
    "    #Atualizando pesos.\n",
    "    pesos.assign(pesos-passo*(grad+langevin_noise))\n",
    "    return pesos,priori()+verrossimilhança()"
   ]
  },
  {
   "cell_type": "code",
   "execution_count": 13,
   "metadata": {},
   "outputs": [
    {
     "name": "stdout",
     "output_type": "stream",
     "text": [
      "Langevin otimizado gastou  9.813573837280273  segundos\n"
     ]
    }
   ],
   "source": [
    "tau_1.assign(0.1)\n",
    "tau_2.assign(0.01)\n",
    "passo_do_langevin=10**(-3)\n",
    "pesos.assign(tf.random.normal([4,1],0,1))\n",
    "amostra_de_pesos=pesos\n",
    "erros=[]\n",
    "inicio=t.time()\n",
    "for i in range(10000):\n",
    "    resultado_langevin=Langevin(passo_do_langevin)\n",
    "    erros.append(resultado_langevin[1])\n",
    "    amostra_de_pesos=tf.concat([amostra_de_pesos,resultado_langevin[0]],axis=1)\n",
    "print('Langevin otimizado gastou ',t.time()-inicio,' segundos')"
   ]
  },
  {
   "cell_type": "code",
   "execution_count": 14,
   "metadata": {},
   "outputs": [
    {
     "name": "stdout",
     "output_type": "stream",
     "text": [
      "Langevin não otimizado gastou  59.21962761878967  segundos\n"
     ]
    }
   ],
   "source": [
    "tau_1.assign(0.1)\n",
    "tau_2.assign(0.01)\n",
    "passo_do_langevin=10**(-3)\n",
    "pesos.assign(tf.random.normal([4,1],0,1))\n",
    "amostra_de_pesos=pesos\n",
    "erros=[]\n",
    "inicio=t.time()\n",
    "for i in range(10000):\n",
    "    resultado_langevin=Langevin_sem_otimização(passo_do_langevin)\n",
    "    erros.append(resultado_langevin[1])\n",
    "    amostra_de_pesos=tf.concat([amostra_de_pesos,resultado_langevin[0]],axis=1)\n",
    "print('Langevin não otimizado gastou ',t.time()-inicio,' segundos')"
   ]
  },
  {
   "cell_type": "markdown",
   "metadata": {},
   "source": [
    "Coisas que não devem ser feitas com funções otimizadas"
   ]
  },
  {
   "cell_type": "code",
   "execution_count": 15,
   "metadata": {},
   "outputs": [
    {
     "name": "stdout",
     "output_type": "stream",
     "text": [
      "Variavel teste no tempo 1:  0\n",
      "Variavel teste no tempo 2:  1\n",
      "Variavel teste no tempo 3:  2\n"
     ]
    }
   ],
   "source": [
    "variavel_teste=0\n",
    "outra_variavel=0\n",
    "def exemplo_bom():\n",
    "    global variavel_teste,outra_variavel\n",
    "    variavel_teste=outra_variavel\n",
    "    \n",
    "print('Variavel teste no tempo 1: ',variavel_teste)\n",
    "outra_variavel=1\n",
    "exemplo_bom()\n",
    "print('Variavel teste no tempo 2: ',variavel_teste)\n",
    "outra_variavel=2\n",
    "exemplo_bom()\n",
    "print('Variavel teste no tempo 3: ',variavel_teste)"
   ]
  },
  {
   "cell_type": "code",
   "execution_count": 16,
   "metadata": {},
   "outputs": [
    {
     "name": "stdout",
     "output_type": "stream",
     "text": [
      "Variavel teste no tempo 1:  0\n",
      "Variavel teste no tempo 2:  1\n",
      "Variavel teste no tempo 3:  1\n"
     ]
    }
   ],
   "source": [
    "variavel_teste=0\n",
    "outra_variavel=0\n",
    "@tf.function\n",
    "def exemplo_ruim():\n",
    "    global variavel_teste,outra_variavel\n",
    "    variavel_teste=outra_variavel\n",
    "    \n",
    "print('Variavel teste no tempo 1: ',variavel_teste)\n",
    "outra_variavel=1\n",
    "exemplo_ruim()\n",
    "print('Variavel teste no tempo 2: ',variavel_teste)\n",
    "outra_variavel=2\n",
    "exemplo_ruim()\n",
    "print('Variavel teste no tempo 3: ',variavel_teste)"
   ]
  },
  {
   "cell_type": "markdown",
   "metadata": {},
   "source": [
    "Veja que, uma vez que a função otimizada foi compilada, ela não acessará valores externos, pois ela foi compilada fora do python e os valores que não são do tipo tf.Variable são considerados constantes."
   ]
  },
  {
   "cell_type": "code",
   "execution_count": 17,
   "metadata": {},
   "outputs": [
    {
     "name": "stdout",
     "output_type": "stream",
     "text": [
      "Variavel teste no tempo 1:  0\n",
      "Variavel teste no tempo 2:  1\n",
      "Variavel teste no tempo 3:  2\n"
     ]
    }
   ],
   "source": [
    "variavel_teste=tf.Variable(0)\n",
    "outra_variavel=tf.Variable(0)\n",
    "@tf.function\n",
    "def exemplo_corrigido():\n",
    "    global variavel_teste,outra_variavel\n",
    "    variavel_teste.assign(outra_variavel)\n",
    "    \n",
    "print('Variavel teste no tempo 1: ',variavel_teste.numpy())\n",
    "outra_variavel.assign(1)\n",
    "exemplo_corrigido()\n",
    "print('Variavel teste no tempo 2: ',variavel_teste.numpy())\n",
    "outra_variavel.assign(2)\n",
    "exemplo_corrigido()\n",
    "print('Variavel teste no tempo 3: ',variavel_teste.numpy())"
   ]
  },
  {
   "cell_type": "markdown",
   "metadata": {},
   "source": [
    "Ao armazenar o valor da variável em um objeto do tensorflow e atualizando este objeto pelo método adequado, podemos atualizar os valores de maneira adequada."
   ]
  },
  {
   "cell_type": "markdown",
   "metadata": {},
   "source": [
    "Apropósito o método numpy serve para que a variável seja retornada como um número (ou vetor) comum, ou seja, este método retorna o valor armazenado na variável."
   ]
  },
  {
   "cell_type": "code",
   "execution_count": 18,
   "metadata": {},
   "outputs": [
    {
     "name": "stdout",
     "output_type": "stream",
     "text": [
      "<tf.Variable 'Variable:0' shape=() dtype=int32, numpy=2>\n",
      "2\n"
     ]
    }
   ],
   "source": [
    "print(variavel_teste)\n",
    "print(variavel_teste.numpy())"
   ]
  },
  {
   "cell_type": "markdown",
   "metadata": {},
   "source": [
    "Uma observação importante é que o problema observado não é apenas uma questão da variável outra_variavel ser constante para a função, as partes do código da função que não se referem a variáveis do tensorflow são executadas apenas na primeira execução e, após compilada, a função irá ignorar estas partes."
   ]
  },
  {
   "cell_type": "code",
   "execution_count": 19,
   "metadata": {},
   "outputs": [
    {
     "name": "stdout",
     "output_type": "stream",
     "text": [
      "Variavel teste no tempo 1:  0\n",
      "Variavel teste no tempo 2:  1\n",
      "Variavel teste no tempo 3:  1\n",
      "Variavel teste no tempo 4:  10\n"
     ]
    }
   ],
   "source": [
    "variavel_teste=0\n",
    "@tf.function\n",
    "def outro_exemplo():\n",
    "    global variavel_teste\n",
    "    variavel_teste+=1\n",
    "    \n",
    "print('Variavel teste no tempo 1: ',variavel_teste)\n",
    "outro_exemplo()\n",
    "print('Variavel teste no tempo 2: ',variavel_teste)\n",
    "outro_exemplo()\n",
    "print('Variavel teste no tempo 3: ',variavel_teste)\n",
    "variavel_teste=10\n",
    "outro_exemplo()\n",
    "print('Variavel teste no tempo 4: ',variavel_teste)"
   ]
  },
  {
   "cell_type": "markdown",
   "metadata": {},
   "source": [
    "Outro cuidado importante a se ter é com o tipo dos valores a serem armazenados, pois o tensorflow não faz operações com números armazenados como tipos distintos:"
   ]
  },
  {
   "cell_type": "code",
   "execution_count": 20,
   "metadata": {},
   "outputs": [
    {
     "name": "stdout",
     "output_type": "stream",
     "text": [
      "tf.Tensor(2.0, shape=(), dtype=float32)\n",
      "Argumentos inadequados\n",
      "Argumentos inadequados\n"
     ]
    }
   ],
   "source": [
    "def soma(A,B):\n",
    "    try:\n",
    "        print(A+B)\n",
    "    except tf.errors.InvalidArgumentError:\n",
    "        print('Argumentos inadequados')\n",
    "\n",
    "#Correto!\n",
    "A=tf.constant(1,dtype='float32')\n",
    "B=tf.constant(1,dtype='float32')\n",
    "soma(A,B)\n",
    "\n",
    "#Errado!\n",
    "A=tf.constant(1,dtype='float32')\n",
    "B=tf.constant(1,dtype='int32')\n",
    "soma(A,B)\n",
    "\n",
    "#Errado!\n",
    "A=tf.constant(1,dtype='float32')\n",
    "B=tf.constant(1,dtype='float64')\n",
    "soma(A,B)"
   ]
  },
  {
   "cell_type": "markdown",
   "metadata": {},
   "source": [
    "Isto é invariante a otimização, porém, o erro levantado é diferente, no eager execution é levantado um erro do tensorflow \"tf.errors.InvalidArgumentError\", já na função compilada, o erro retornado é nativo do Python (\"TypeError\")."
   ]
  },
  {
   "cell_type": "code",
   "execution_count": 21,
   "metadata": {},
   "outputs": [
    {
     "name": "stdout",
     "output_type": "stream",
     "text": [
      "Tensor(\"add:0\", shape=(), dtype=float32)\n",
      "Argumentos inadequados\n",
      "Argumentos inadequados\n"
     ]
    }
   ],
   "source": [
    "@tf.function\n",
    "def soma(A,B):\n",
    "    try:\n",
    "        print(A+B)\n",
    "    except TypeError:\n",
    "        print('Argumentos inadequados')\n",
    "\n",
    "#Correto!\n",
    "A=tf.constant(1,dtype='float32')\n",
    "B=tf.constant(1,dtype='float32')\n",
    "soma(A,B)\n",
    "\n",
    "#Errado!\n",
    "A=tf.constant(1,dtype='float32')\n",
    "B=tf.constant(1,dtype='int32')\n",
    "soma(A,B)\n",
    "\n",
    "#Errado!\n",
    "A=tf.constant(1,dtype='float32')\n",
    "B=tf.constant(1,dtype='float64')\n",
    "soma(A,B)"
   ]
  },
  {
   "cell_type": "markdown",
   "metadata": {},
   "source": [
    "Por último, deve se ter cuidado com a execução do tensorflow em vário ambientes simultaneamente, geralmente isso dá erro no último ambiente a ser inicializado."
   ]
  }
 ],
 "metadata": {
  "kernelspec": {
   "display_name": "Python 3",
   "language": "python",
   "name": "python3"
  },
  "language_info": {
   "codemirror_mode": {
    "name": "ipython",
    "version": 3
   },
   "file_extension": ".py",
   "mimetype": "text/x-python",
   "name": "python",
   "nbconvert_exporter": "python",
   "pygments_lexer": "ipython3",
   "version": "3.7.4"
  }
 },
 "nbformat": 4,
 "nbformat_minor": 4
}
